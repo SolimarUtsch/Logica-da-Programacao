{
  "nbformat": 4,
  "nbformat_minor": 0,
  "metadata": {
    "colab": {
      "provenance": []
    },
    "kernelspec": {
      "name": "python3",
      "display_name": "Python 3"
    },
    "language_info": {
      "name": "python"
    }
  },
  "cells": [
    {
      "cell_type": "code",
      "source": [
        "# PROJETO LÓGICA DA PROGRAMAÇÃO: Automação de Calculadora de Notas de Alunos, informando os aprovados e os reprovados\n",
        "\n",
        "def obter_notas(aluno):\n",
        "    notas = []\n",
        "    for i in range(3):\n",
        "        nota = float(input(f'Digite a nota {i+1} do {aluno}: '))\n",
        "        notas.append(nota)\n",
        "    return notas\n",
        "\n",
        "def calcular_media(notas):\n",
        "    return sum(notas) / len(notas)\n",
        "\n",
        "def classificar_aluno(nome, media):\n",
        "    return (nome, 'Aprovado') if media >= 7 else (nome, 'Reprovado')\n",
        "\n",
        "alunos = []\n",
        "for i in range(3):\n",
        "    nome = input(f'Digite o nome do aluno {i+1}: ')\n",
        "    notas = obter_notas(nome)\n",
        "    media = calcular_media(notas)\n",
        "    alunos.append((nome, media))\n",
        "    print(f'A média do aluno {nome} é: {media:.2f}')\n",
        "\n",
        "alunos_aprovados = []\n",
        "alunos_reprovados = []\n",
        "\n",
        "for aluno, media in alunos:\n",
        "    if media >= 7:\n",
        "        alunos_aprovados.append(aluno)\n",
        "    else:\n",
        "        alunos_reprovados.append(aluno)\n",
        "\n",
        "print('Os alunos aprovados foram:', alunos_aprovados)\n",
        "print('Os alunos reprovados foram:', alunos_reprovados)"
      ],
      "metadata": {
        "colab": {
          "base_uri": "https://localhost:8080/"
        },
        "id": "K707EY3sg7sG",
        "outputId": "2c4d0b1b-41a1-40ff-ea25-f89596692808"
      },
      "execution_count": null,
      "outputs": [
        {
          "output_type": "stream",
          "name": "stdout",
          "text": [
            "Digite o nome do aluno 1: João\n",
            "Digite a nota 1 do João: 5.5\n",
            "Digite a nota 2 do João: 8\n",
            "Digite a nota 3 do João: 10\n",
            "A média do aluno João é: 7.83\n",
            "Digite o nome do aluno 2: Marcel\n",
            "Digite a nota 1 do Marcel: 5\n",
            "Digite a nota 2 do Marcel: 4.3\n",
            "Digite a nota 3 do Marcel: 10\n",
            "A média do aluno Marcel é: 6.43\n",
            "Digite o nome do aluno 3: Antonio\n",
            "Digite a nota 1 do Antonio: 5\n",
            "Digite a nota 2 do Antonio: 5.5\n",
            "Digite a nota 3 do Antonio: 10\n",
            "A média do aluno Antonio é: 6.83\n",
            "Os alunos aprovados foram: ['João']\n",
            "Os alunos reprovados foram: ['Marcel', 'Antonio']\n"
          ]
        }
      ]
    },
    {
      "cell_type": "code",
      "source": [],
      "metadata": {
        "id": "qnWV_TPwiZtc"
      },
      "execution_count": null,
      "outputs": []
    }
  ]
}