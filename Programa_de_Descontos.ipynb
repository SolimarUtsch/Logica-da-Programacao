{
  "nbformat": 4,
  "nbformat_minor": 0,
  "metadata": {
    "colab": {
      "provenance": []
    },
    "kernelspec": {
      "name": "python3",
      "display_name": "Python 3"
    },
    "language_info": {
      "name": "python"
    }
  },
  "cells": [
    {
      "cell_type": "markdown",
      "source": [
        "\n",
        "# PROGRAMANDO DESCONTOS AUTOMÁTICOS EM UMA LOJA"
      ],
      "metadata": {
        "id": "5pkfSK48opZz"
      }
    },
    {
      "cell_type": "code",
      "source": [
        "nome = input ('Digite o nome do produto: ')\n",
        "valor = float (input('Digite agora o valor do produto: R$ '))\n",
        "percentual_desconto = float (input('Digite o percentual de descconto em %: '))\n",
        "\n",
        "#Calcular o valor do desconto do produto\n",
        "desconto = (percentual_desconto/100*valor)\n",
        "valor_final = valor - desconto\n",
        "print('O produto ', nome, 'está com ', desconto, 'R$ de desconto! De R$ ', valor, 'por R$ !', valor_final, 'Aproveite!')"
      ],
      "metadata": {
        "colab": {
          "base_uri": "https://localhost:8080/"
        },
        "id": "Dx7TKGo8raIH",
        "outputId": "b0d31b72-e6b5-4300-958d-8b331c697502"
      },
      "execution_count": 5,
      "outputs": [
        {
          "output_type": "stream",
          "name": "stdout",
          "text": [
            "Digite o nome do produto: Hidratante Loccitane\n",
            "Digite agora o valor do produto: R$ 120\n",
            "Digite o percentual de descconto em %: 15\n",
            "O produto  Hidratante Loccitane está com  18.0 R$ de desconto! De R$  120.0 por R$ ! 102.0 Aproveite!\n"
          ]
        }
      ]
    }
  ]
}