{
  "nbformat": 4,
  "nbformat_minor": 0,
  "metadata": {
    "colab": {
      "provenance": []
    },
    "kernelspec": {
      "name": "python3",
      "display_name": "Python 3"
    },
    "language_info": {
      "name": "python"
    }
  },
  "cells": [
    {
      "cell_type": "code",
      "source": [
        "# PROJETO LÓGICA DA PROGRAMAÇÃO: Automação de Calculadora de Notas de Alunos, informando os aprovados e os reprovados\n",
        "aluno1 = input('Digite o nome do primeiro aluno: ')\n",
        "valor1 = float(input('Digite a nota 1 do ' + aluno1 + ': '))\n",
        "valor2 = float(input('Digite a nota 2 do ' + aluno1 + ': '))\n",
        "valor3 = float(input('Digite a nota 3 do ' + aluno1 + ': '))\n",
        "media1 = float((valor1 + valor2 + valor3)/3)\n",
        "print('A média do aluno ', aluno1, 'é: ', media1)\n",
        "\n",
        "aluno2 = input('Digite o nome do segundo aluno: ')\n",
        "valor4 = float(input('Digite a nota 1 do ' + aluno2 + ': '))\n",
        "valor5 = float(input('Digite a nota 2 do ' + aluno2 + ': '))\n",
        "valor6 = float(input('Digite a nota 3 do ' + aluno2 + ': '))\n",
        "media2 = float((valor4 + valor5 + valor6)/3)\n",
        "print('A média do aluno ', aluno2, 'é: ', media2)\n",
        "\n",
        "aluno3 = input('Digite o nome do terceiro aluno: ')\n",
        "valor7 = float(input('Digite a nota 1 do ' + aluno3 + ': '))\n",
        "valor8 = float(input('Digite a nota 2 do ' + aluno3 + ': '))\n",
        "valor9 = float(input('Digite a nota 3 do ' + aluno3 + ': '))\n",
        "media3 = float((valor7 + valor8 + valor9)/3)\n",
        "print('A média do aluno ', aluno3, 'é: ', media3)\n",
        "\n",
        "# Lista dos 3 Alunos\n",
        "alunos = [(aluno1, media1), (aluno2, media2), (aluno3, media3)]\n",
        "\n",
        "# Lista de alunos APROVADOS e alunos REPROVADOS\n",
        "alunos_aprovados = []\n",
        "alunos_reprovados = []\n",
        "\n",
        "# Para ser APROVADO o aluno precisa ter média igual ou menor a 7\n",
        "for aluno, media in alunos:\n",
        "    if media >=7:\n",
        "      alunos_aprovados.append(aluno)\n",
        "    else:\n",
        "      alunos_reprovados.append(aluno)\n",
        "\n",
        "# Imprimir os resultados dos alunos que foram APROVADOS e os que foram REPROVADOS\n",
        "print('Os alunos aprovados foram: ', alunos_aprovados)\n",
        "print('Os alunos reprovados foram: ', alunos_reprovados)"
      ],
      "metadata": {
        "colab": {
          "base_uri": "https://localhost:8080/"
        },
        "id": "T8Xg2QgMjwOX",
        "outputId": "fca53059-e2f4-468b-a64e-ea9e619e8af4"
      },
      "execution_count": 3,
      "outputs": [
        {
          "output_type": "stream",
          "name": "stdout",
          "text": [
            "Digite o nome do primeiro aluno: João\n",
            "Digite a nota 1 do João: 5\n",
            "Digite a nota 2 do João: 4.5\n",
            "Digite a nota 3 do João: 10\n",
            "A média do aluno  João é:  6.5\n",
            "Digite o nome do segundo aluno: Marcel\n",
            "Digite a nota 1 do Marcel: 5\n",
            "Digite a nota 2 do Marcel: 7\n",
            "Digite a nota 3 do Marcel: 8\n",
            "A média do aluno  Marcel é:  6.666666666666667\n",
            "Digite o nome do terceiro aluno: Antonio\n",
            "Digite a nota 1 do Antonio: 5\n",
            "Digite a nota 2 do Antonio: 7\n",
            "Digite a nota 3 do Antonio: 10\n",
            "A média do aluno  Antonio é:  7.333333333333333\n",
            "Os alunos aprovados foram:  ['Antonio']\n",
            "Os alunos reprovados foram:  ['João', 'Marcel']\n"
          ]
        }
      ]
    },
    {
      "cell_type": "code",
      "source": [],
      "metadata": {
        "id": "zpaiIAgEj7ls"
      },
      "execution_count": null,
      "outputs": []
    },
    {
      "cell_type": "code",
      "source": [],
      "metadata": {
        "id": "K7uy_bliepFg"
      },
      "execution_count": null,
      "outputs": []
    },
    {
      "cell_type": "code",
      "source": [],
      "metadata": {
        "id": "7yKw1utoeaeT"
      },
      "execution_count": null,
      "outputs": []
    },
    {
      "cell_type": "code",
      "source": [],
      "metadata": {
        "id": "dl2CTjIRdvtn"
      },
      "execution_count": null,
      "outputs": []
    },
    {
      "cell_type": "code",
      "source": [],
      "metadata": {
        "id": "yR9PzZiLbrXo"
      },
      "execution_count": null,
      "outputs": []
    }
  ]
}